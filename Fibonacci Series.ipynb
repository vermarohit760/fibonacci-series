{
 "cells": [
  {
   "cell_type": "code",
   "execution_count": 3,
   "id": "8cd8e809",
   "metadata": {},
   "outputs": [
    {
     "name": "stdout",
     "output_type": "stream",
     "text": [
      "Number of elements in fibonaci series, N , (N>=2) :10\n",
      "the required fibonacci series is :->  [0, 1, 1, 2, 3, 5, 8, 13, 21, 34]\n"
     ]
    }
   ],
   "source": [
    "n=int(input('Number of elements in fibonaci series, N , (N>=2) :'))\n",
    "fibonaci_series=[0,1]\n",
    "for i in range(2,n):\n",
    "        next_element=fibonaci_series[i-1]+fibonaci_series[i-2]\n",
    "        fibonaci_series.append(next_element)\n",
    "print('the required fibonacci series is :-> ',fibonaci_series)"
   ]
  },
  {
   "cell_type": "code",
   "execution_count": null,
   "id": "ad901791",
   "metadata": {},
   "outputs": [],
   "source": []
  },
  {
   "cell_type": "code",
   "execution_count": null,
   "id": "cff55bfc",
   "metadata": {},
   "outputs": [],
   "source": []
  }
 ],
 "metadata": {
  "kernelspec": {
   "display_name": "Python 3 (ipykernel)",
   "language": "python",
   "name": "python3"
  },
  "language_info": {
   "codemirror_mode": {
    "name": "ipython",
    "version": 3
   },
   "file_extension": ".py",
   "mimetype": "text/x-python",
   "name": "python",
   "nbconvert_exporter": "python",
   "pygments_lexer": "ipython3",
   "version": "3.9.6"
  }
 },
 "nbformat": 4,
 "nbformat_minor": 5
}
